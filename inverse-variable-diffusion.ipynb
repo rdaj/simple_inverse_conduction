{
 "cells": [
  {
   "cell_type": "code",
   "execution_count": 3,
   "metadata": {},
   "outputs": [],
   "source": [
    "import numpy as np\n",
    "import scipy.linalg as la\n",
    "from scipy.interpolate import interp1d\n",
    "import matplotlib.pyplot as plt\n",
    "import pandas as pd"
   ]
  },
  {
   "cell_type": "code",
   "execution_count": 152,
   "metadata": {},
   "outputs": [],
   "source": [
    "from scipy.integrate import solve_ivp\n",
    "from scipy.sparse import diags\n"
   ]
  },
  {
   "cell_type": "code",
   "execution_count": 6,
   "metadata": {},
   "outputs": [],
   "source": [
    "def gen_args(y):\n",
    "    print (y, \"va fan\")\n",
    "    if y < 10 :\n",
    "        return 1.\n",
    "    return 1\n",
    "\n",
    "def model(t, y):\n",
    "    arg1 = gen_args(y[0])\n",
    "    dy_dt = [y[1], -0.5*arg1]\n",
    "    return dy_dt"
   ]
  },
  {
   "cell_type": "code",
   "execution_count": 12,
   "metadata": {},
   "outputs": [
    {
     "name": "stdout",
     "output_type": "stream",
     "text": [
      "1.0 va fan\n",
      "1.0141483232080106 va fan\n",
      "1.1352753676878014 va fan\n",
      "1.2028101172654972 va fan\n",
      "1.5403694937470829 va fan\n",
      "1.600320181076497 va fan\n",
      "1.6752331243700658 va fan\n",
      "1.675233124370065 va fan\n",
      "3.0234119449723114 va fan\n",
      "3.687207928652958 va fan\n",
      "6.9947507063667675 va fan\n",
      "7.576771462340198 va fan\n",
      "8.30175582048711 va fan\n",
      "8.301755820487111 va fan\n",
      "8.794681084629792 va fan\n",
      "9.039669323993085 va fan\n",
      "10.262972306689504 va fan\n",
      "10.479590858197389 va fan\n",
      "10.75 va fan\n",
      "10.75 va fan\n",
      "[0.1]\n"
     ]
    }
   ],
   "source": [
    "tspan = [0,1]\n",
    "y0 = [1,10]# position 0 have velocity 10\n",
    "\n",
    "sol = solve_ivp(model, t_span = tspan, y0=y0,t_eval=[0.1])#, events=hit_ground)\n",
    "\n",
    "print(sol.t)"
   ]
  },
  {
   "cell_type": "code",
   "execution_count": 4,
   "metadata": {},
   "outputs": [],
   "source": [
    "def extendvector(F):\n",
    "    N = F.size\n",
    "    x = np.arange(N)/N\n",
    "    width = min(N/2,6)\n",
    "    \n",
    "\n",
    "    ca = np.vstack((x[:width]**0, x[:width]**1))\n",
    "    ca = np.linalg.lstsq(ca.T,F[:width], rcond= None)[0]\n",
    "    \n",
    "    cb = np.vstack((x[N-width:]**0, x[N-width:]**1))\n",
    "    cb = np.linalg.lstsq(cb.T,F[N-width:], rcond= None)[0]\n",
    "    \n",
    "    xval = np.hstack([x[:width],x[N-width:]])\n",
    "    \n",
    "    fb = cb[0]+cb[1]*(1+x[:width])\n",
    "    fa = ca[0]+ca[1]*(-x[width:0:-1])\n",
    "    fval = np.hstack([fb,fa])\n",
    "    \n",
    "    F2=interp1d(xval,fval, kind='cubic')\n",
    "    return np.hstack([F,F2(x)])\n",
    "    "
   ]
  },
  {
   "cell_type": "code",
   "execution_count": 75,
   "metadata": {},
   "outputs": [
    {
     "name": "stdout",
     "output_type": "stream",
     "text": [
      "(12,) (12,) (20,)\n"
     ]
    }
   ],
   "source": [
    "plab = extendvector(np.arange(20))"
   ]
  },
  {
   "cell_type": "markdown",
   "metadata": {},
   "source": [
    "# variable Thermal difussion\n",
    "\n",
    "\n",
    "\\begin{bmatrix}\n",
    "2-2r & r & 0 & 0 & 0 \\\\ \n",
    "r & 2-2r & r & 0 & 0 \\\\ \n",
    "0 &  r & 2-2r & r & 0 \\\\ \n",
    "0 & 0  & r & 2-2r  & r \\\\ \n",
    "0 & 0 & 0  & r & 2-2r \n",
    "\\end{bmatrix}\n",
    "\n",
    "\\begin{bmatrix}\n",
    "U_{1}^{+1}\\\\ \n",
    "U_{2}^{+1}\\\\ \n",
    "U_{3}^{+1}\\\\ \n",
    "U_{4}^{+1}\\\\ \n",
    "U_{5}^{+1}\n",
    "\\end{bmatrix}\n",
    "\n",
    "= \n",
    "\n",
    "\\begin{bmatrix}\n",
    "2+2r & -r & 0 & 0 & 0 \\\\ \n",
    "-r & 2+2r & -r & 0 & 0 \\\\ \n",
    "0 &  -r & 2+2r & -r & 0 \\\\ \n",
    "0 & 0  & -r & 2+2r  & -r \\\\ \n",
    "0 & 0 & 0  & -r & 2+2r \n",
    "\\end{bmatrix}\n",
    "\n",
    "\\begin{bmatrix}\n",
    "U_{1}\\\\ \n",
    "U_{2}\\\\ \n",
    "U_{3}\\\\ \n",
    "U_{4}\\\\ \n",
    "U_{5}\n",
    "\\end{bmatrix}\n",
    "\n",
    "+\n",
    "\n",
    "\\begin{bmatrix}\n",
    "b_{0}\\\\ \n",
    "0\\\\ \n",
    "0\\\\ \n",
    "0\\\\ \n",
    "b_{6}\n",
    "\\end{bmatrix}"
   ]
  },
  {
   "cell_type": "code",
   "execution_count": 168,
   "metadata": {},
   "outputs": [],
   "source": [
    "\n",
    "def forwardSolveVariable(Ta, Tb,ic,dtdx, corrector= 15):\n",
    "    '''\n",
    "    Ta Temperature for point a\n",
    "    Tb Temperature for point b\n",
    "    ic initial condition\n",
    "    dtdx total time / total length\n",
    "    corrector maximum itterations for variable kappa\n",
    "    '''\n",
    "\n",
    "    \n",
    "    M = Ta.size\n",
    "    N = 10\n",
    "    dt = 1/(M-1)\n",
    "    dx = 1/(N+1)\n",
    "    r = dt / dx**2 *dtdx\n",
    "    print ('M.size', M, beval(ic))\n",
    "    print (r)\n",
    "    print ('D', r*beval(ic))\n",
    "    \n",
    "    \n",
    "    b = np.zeros(N)\n",
    "    U = np.ones([N,M])*ic\n",
    "    \n",
    "    avec = beval(U[:,0])\n",
    "    bvec = np.zeros([2,N])\n",
    "    bvec[1] = beval(U[:,0])\n",
    "    \n",
    "    da = np.zeros(M)\n",
    "    db = np.zeros(M)\n",
    "    \n",
    "\n",
    "    residual = np.zeros((M+1)*corrector)\n",
    "    \n",
    "    \n",
    "    for j in np.arange(M-1)+1:\n",
    "        D = r*avec\n",
    "        A = -D*np.eye(N,k=-1) + (2+2*D)*np.eye(N,k=0) - D*np.eye(N,k=1)\n",
    "        # A = -r * np.diag(avec[2:-1],k=1) + (2+ 2*r) * np.diag(avec[1:-1],k=0) - r* np.diag(avec[2:-1], k = -1)\n",
    "\n",
    "        \n",
    "        UU = U[:,j-1]\n",
    "        \n",
    "        # boundary condition, these will not change within the corrector loop.\n",
    "        b[0]  = Ta[j-1] * r * beval(Ta[j-1])\n",
    "        b[-1] = Tb[j-1] * r * beval(Tb[j-1])\n",
    "        \n",
    "        b[0]  = b[0]  + Ta[j]   * r * beval(Ta[j])\n",
    "        b[-1] = b[-1] + Tb[j]   * r * beval(Tb[j])\n",
    "        \n",
    "        i = 1\n",
    "        \n",
    "        while(i<corrector):\n",
    "            bvec[0] = bvec[1]\n",
    "            \n",
    "            B = +r*bvec[0] * np.eye(N, k=-1) + (2-2*r*bvec[0])*np.eye(N, k=0) + r*bvec[0]*np.eye(N, k=1)\n",
    "\n",
    "            \n",
    "            Utmp = B.dot(UU)\n",
    "        \n",
    "        \n",
    "            Utmp = Utmp + b\n",
    "            U[:,j] = np.linalg.lstsq(A,Utmp,rcond= None)[0]\n",
    "            bvec[1] = beval(U[:,j])\n",
    "            residual[ j * corrector + i ] = abs(bvec[0].mean() - bvec[1].mean())\n",
    "            i = i+1 # add while residual < tolerance\n",
    "        \n",
    "        \n",
    "        avec = bvec[0].copy()  # sett kappa values for t-1 in the next itteration\n",
    "        \n",
    "        # the derivatives on the points Ta and Tb\n",
    "        \n",
    "        da[j] = (-147*U[0,j]+360*U[1,j]-450*U[2,j]+400*U[3,j]-225*U[4,j]+72*U[5,j]-10*U[6,j])/(60*1.0*dx**1)\n",
    "        db[j] = (10*U[-7,j]-72*U[-6,j]+225*U[-5,j]-400*U[-4,j]+450*U[-3,j]-360*U[-2,j]+147*U[-1,j])/(60*1.0*dx**1)\n",
    "    return U, da ,db, residual\n",
    "    \n",
    "    "
   ]
  },
  {
   "cell_type": "code",
   "execution_count": 225,
   "metadata": {},
   "outputs": [],
   "source": [
    "def beval(T):\n",
    "    cp = 475\n",
    "    #k = 44.5 \n",
    "    k =  2.73741657e-08*(T-273)**3 -2.16750919e-05*(T-273)**2 -4.33713138e-02*(T-273)**1 + 2*6.50693381e+03*(T-273)**0\n",
    "    \n",
    "    rho = 7850\n",
    "    a = k/(cp*rho)\n",
    "    val = T**0*a\n",
    "    return val"
   ]
  },
  {
   "cell_type": "code",
   "execution_count": 226,
   "metadata": {},
   "outputs": [
    {
     "name": "stdout",
     "output_type": "stream",
     "text": [
      "M.size 3003 0.003480563131651593\n",
      "60459.69353764157\n",
      "D 210.43378027806935\n"
     ]
    }
   ],
   "source": [
    " \n",
    "time = 1.5                   #  Total time\n",
    "dx = 0.001                   #  Total length \n",
    "\n",
    "ta = x['ColledVariable'].values    # Temperature in point a\n",
    "tb = x['measureVariable'].values   # Temperature in point b\n",
    "dtdx = 1.5/dx**2             \n",
    "\n",
    "#dtdx = time/dx**2            # scale factor\n",
    "\n",
    "\n",
    "sol,da,db, residual= forwardSolveVariable(ta, tb, 1123.15, dtdx)"
   ]
  },
  {
   "cell_type": "code",
   "execution_count": 178,
   "metadata": {},
   "outputs": [
    {
     "name": "stdout",
     "output_type": "stream",
     "text": [
      "(1501, 5)\n"
     ]
    }
   ],
   "source": [
    "x = pd.read_csv('dataPointsVariable.csv')\n",
    "print (x.shape)\n",
    "x = x.reindex(x.index.union(np.linspace(0,1501,3003)))\n",
    "x.interpolate('index', inplace = True)\n",
    "xx = pd.read_csv('CrossS.csv', header = None, index_col = 0)\n",
    "\n"
   ]
  },
  {
   "cell_type": "code",
   "execution_count": 143,
   "metadata": {},
   "outputs": [
    {
     "data": {
      "text/plain": [
       "array([0.0000e+00, 5.0000e-01, 1.0000e+00, ..., 1.5000e+03, 1.5005e+03,\n",
       "       1.5010e+03])"
      ]
     },
     "execution_count": 143,
     "metadata": {},
     "output_type": "execute_result"
    }
   ],
   "source": [
    "np.linspace(0,1501,3003)"
   ]
  },
  {
   "cell_type": "code",
   "execution_count": 170,
   "metadata": {},
   "outputs": [
    {
     "data": {
      "text/plain": [
       "700.0"
      ]
     },
     "execution_count": 170,
     "metadata": {},
     "output_type": "execute_result"
    }
   ],
   "source": [
    "1500*0.7/1.5"
   ]
  },
  {
   "cell_type": "code",
   "execution_count": 227,
   "metadata": {},
   "outputs": [
    {
     "data": {
      "image/png": "[encoded data removed]",
      "text/plain": [
       "<Figure size 432x288 with 1 Axes>"
      ]
     },
     "metadata": {
      "needs_background": "light"
     },
     "output_type": "display_data"
    }
   ],
   "source": [
    "plt.plot(sol[:,700])\n",
    "plt.grid()"
   ]
  },
  {
   "cell_type": "code",
   "execution_count": 228,
   "metadata": {},
   "outputs": [
    {
     "name": "stdout",
     "output_type": "stream",
     "text": [
      "[507.7323386  507.74873154 507.76303082 507.77534397 507.78570139\n",
      " 507.79411121 507.80057312 507.80507834 507.80759587 507.80801773]\n",
      "507.7135555443036 507.80604761773714\n"
     ]
    },
    {
     "data": {
      "image/png": "[encoded data removed]",
      "text/plain": [
       "<Figure size 432x288 with 1 Axes>"
      ]
     },
     "metadata": {
      "needs_background": "light"
     },
     "output_type": "display_data"
    }
   ],
   "source": [
    "i = 1400\n",
    "plt.plot(np.concatenate((ta[i],sol[:,i], tb[i]), axis = None))\n",
    "plt.plot(11-xx.index*11/8,xx[1])\n",
    "#lt.plot(11-xx.index*11/8,xx[2])\n",
    "print(sol[:,i])\n",
    "print (ta[i], tb[i])\n",
    "#plt.ylim([400,1150])\n",
    "plt.legend(['script','comsol-var', 'comsol-const'])\n",
    "plt.grid()"
   ]
  },
  {
   "cell_type": "code",
   "execution_count": 45,
   "metadata": {},
   "outputs": [
    {
     "name": "stdout",
     "output_type": "stream",
     "text": [
      "0.0\n"
     ]
    },
    {
     "data": {
      "image/png": "[encoded data removed]",
      "text/plain": [
       "<Figure size 432x288 with 1 Axes>"
      ]
     },
     "metadata": {
      "needs_background": "light"
     },
     "output_type": "display_data"
    }
   ],
   "source": [
    "plt.plot(residual[405:415])\n",
    "print (residual[409])"
   ]
  },
  {
   "cell_type": "code",
   "execution_count": 131,
   "metadata": {},
   "outputs": [
    {
     "data": {
      "text/plain": [
       "[<matplotlib.lines.Line2D at 0x15fe37ef148>]"
      ]
     },
     "execution_count": 131,
     "metadata": {},
     "output_type": "execute_result"
    },
    {
     "data": {
      "image/png": "[encoded data removed]",
      "text/plain": [
       "<Figure size 432x288 with 1 Axes>"
      ]
     },
     "metadata": {
      "needs_background": "light"
     },
     "output_type": "display_data"
    }
   ],
   "source": [
    "plt.plot(tb)"
   ]
  },
  {
   "cell_type": "code",
   "execution_count": 22,
   "metadata": {},
   "outputs": [],
   "source": [
    "d = 1.5/0.001**2"
   ]
  },
  {
   "cell_type": "code",
   "execution_count": 23,
   "metadata": {},
   "outputs": [],
   "source": [
    "dd = (1/1500)/(1/10)**2"
   ]
  },
  {
   "cell_type": "code",
   "execution_count": 24,
   "metadata": {},
   "outputs": [
    {
     "data": {
      "text/plain": [
       "99999.99999999997"
      ]
     },
     "execution_count": 24,
     "metadata": {},
     "output_type": "execute_result"
    }
   ],
   "source": [
    "d*dd"
   ]
  },
  {
   "cell_type": "code",
   "execution_count": 229,
   "metadata": {},
   "outputs": [
    {
     "data": {
      "text/plain": [
       "75000.0"
      ]
     },
     "execution_count": 229,
     "metadata": {},
     "output_type": "execute_result"
    }
   ],
   "source": [
    "(1.5/2000)/(0.0001)**2"
   ]
  },
  {
   "cell_type": "code",
   "execution_count": 19,
   "metadata": {},
   "outputs": [
    {
     "data": {
      "text/plain": [
       "100000.0"
      ]
     },
     "execution_count": 19,
     "metadata": {},
     "output_type": "execute_result"
    }
   ],
   "source": [
    "0.001/0.0001**2"
   ]
  },
  {
   "cell_type": "code",
   "execution_count": 77,
   "metadata": {},
   "outputs": [
    {
     "data": {
      "text/plain": [
       "array([[0, 1, 2],\n",
       "       [3, 4, 5],\n",
       "       [6, 7, 8]])"
      ]
     },
     "execution_count": 77,
     "metadata": {},
     "output_type": "execute_result"
    }
   ],
   "source": [
    "aa = np.arange(9).reshape(3,3)\n",
    "aa"
   ]
  },
  {
   "cell_type": "code",
   "execution_count": 79,
   "metadata": {},
   "outputs": [
    {
     "data": {
      "text/plain": [
       "array([[3, 1, 2],\n",
       "       [3, 4, 5],\n",
       "       [6, 7, 8]])"
      ]
     },
     "execution_count": 79,
     "metadata": {},
     "output_type": "execute_result"
    }
   ],
   "source": [
    "aa[0,0] = 3\n",
    "aa"
   ]
  },
  {
   "cell_type": "code",
   "execution_count": 80,
   "metadata": {},
   "outputs": [],
   "source": [
    "aa[-1,-1] = aa[-1,-1]/2 "
   ]
  },
  {
   "cell_type": "code",
   "execution_count": null,
   "metadata": {},
   "outputs": [],
   "source": [
    "aa"
   ]
  },
  {
   "cell_type": "code",
   "execution_count": 231,
   "metadata": {},
   "outputs": [
    {
     "data": {
      "text/plain": [
       "49.52638172329714"
      ]
     },
     "execution_count": 231,
     "metadata": {},
     "output_type": "execute_result"
    }
   ],
   "source": [
    "2.73741657e-08*(600-273)**3 -2.16750919e-05*(600-273)**2 -4.33713138e-02*(600-273)**1 + 6.50693381e+01*(600-273)**0"
   ]
  },
  {
   "cell_type": "code",
   "execution_count": null,
   "metadata": {},
   "outputs": [],
   "source": [
    "2"
   ]
  },
  {
   "cell_type": "code",
   "execution_count": null,
   "metadata": {},
   "outputs": [],
   "source": []
  }
 ],
 "metadata": {
  "kernelspec": {
   "display_name": "Python 3",
   "language": "python",
   "name": "python3"
  },
  "language_info": {
   "codemirror_mode": {
    "name": "ipython",
    "version": 3
   },
   "file_extension": ".py",
   "mimetype": "text/x-python",
   "name": "python",
   "nbconvert_exporter": "python",
   "pygments_lexer": "ipython3",
   "version": "3.7.5"
  }
 },
 "nbformat": 4,
 "nbformat_minor": 4
}
